{
 "cells": [
  {
   "cell_type": "code",
   "execution_count": null,
   "id": "bf0e7963-8310-4378-9ebb-f592fb84d480",
   "metadata": {},
   "outputs": [],
   "source": [
    "class Solution:\n",
    "    def sort012(self, arr, n):\n",
    "        #code here\n",
    "        cnt0 = 0\n",
    "        cnt1 = 0\n",
    "        cnt2 = 0\n",
    "        \n",
    "        for i in range(n):\n",
    "            if arr[i] == 0:\n",
    "                cnt0 += 1\n",
    "                \n",
    "            elif arr[i] == 1:\n",
    "                cnt1 += 1\n",
    "                \n",
    "            elif arr[i] == 2:\n",
    "                cnt2 += 1\n",
    "                \n",
    "        i = 0\n",
    "        \n",
    "        while (cnt0 > 0):\n",
    "            arr[i] = 0\n",
    "            i += 1\n",
    "            cnt0 -= 1\n",
    "            \n",
    "        while (cnt1 > 0):\n",
    "            arr[i] = 1\n",
    "            i += 1\n",
    "            cnt1 -= 1\n",
    "            \n",
    "        while (cnt2 > 0):\n",
    "            arr[i] = 2\n",
    "            i += 1\n",
    "            cnt2 -= 1"
   ]
  }
 ],
 "metadata": {
  "kernelspec": {
   "display_name": "Python 3 (ipykernel)",
   "language": "python",
   "name": "python3"
  },
  "language_info": {
   "codemirror_mode": {
    "name": "ipython",
    "version": 3
   },
   "file_extension": ".py",
   "mimetype": "text/x-python",
   "name": "python",
   "nbconvert_exporter": "python",
   "pygments_lexer": "ipython3",
   "version": "3.10.9"
  }
 },
 "nbformat": 4,
 "nbformat_minor": 5
}
